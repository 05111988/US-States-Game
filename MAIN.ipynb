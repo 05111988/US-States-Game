{
 "cells": [
  {
   "cell_type": "code",
   "execution_count": null,
   "id": "84ea240e-a57d-4f22-82ac-68ab48071a25",
   "metadata": {},
   "outputs": [],
   "source": [
    "import turtle\n",
    "import pandas\n",
    "\n",
    "screen = turtle.Screen()\n",
    "screen.title(\"U.S. States Game\")\n",
    "image = \"./US States game/blank_states_img.gif\"\n",
    "screen.addshape(image)\n",
    "turtle.shape(image)\n",
    "\n",
    "data = pandas.read_csv(\"./US States game/50_states.csv\")\n",
    "all_states = data.state.to_list()\n",
    "guessed_states = []\n",
    "\n",
    "while len(guessed_states) < 50:\n",
    "    answer_state = screen.textinput(title=f\"{len(guessed_states)}/50 States Correct\", prompt=\"What's another state's name?\").title()\n",
    "    if answer_state == \"Exit\":\n",
    "        missing_states = []\n",
    "        for state in all_states:\n",
    "            if state not in guessed_states:\n",
    "                missing_states.append(state)\n",
    "        new_data = pandas.DataFrame(missing_states)\n",
    "        new_data.to_csv(\"states_to_learn.csv\")\n",
    "        break\n",
    "    if answer_state in all_states:\n",
    "        guessed_states.append(answer_state)\n",
    "        t = turtle.Turtle()\n",
    "        t.hideturtle()\n",
    "        t.penup()\n",
    "        state_data = data[data.state == answer_state]\n",
    "        t.goto(state_data.x.item(), state_data.y.item())\n",
    "        t.write(answer_state)\n",
    "\n",
    "\n",
    "\n",
    "\n",
    "\n"
   ]
  },
  {
   "cell_type": "code",
   "execution_count": null,
   "id": "036e0960-e7aa-4400-adce-0bf5832e21f7",
   "metadata": {},
   "outputs": [],
   "source": []
  }
 ],
 "metadata": {
  "kernelspec": {
   "display_name": "Python 3 (ipykernel)",
   "language": "python",
   "name": "python3"
  },
  "language_info": {
   "codemirror_mode": {
    "name": "ipython",
    "version": 3
   },
   "file_extension": ".py",
   "mimetype": "text/x-python",
   "name": "python",
   "nbconvert_exporter": "python",
   "pygments_lexer": "ipython3",
   "version": "3.13.3"
  }
 },
 "nbformat": 4,
 "nbformat_minor": 5
}
